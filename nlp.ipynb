{
 "cells": [
  {
   "cell_type": "code",
   "execution_count": 19,
   "id": "d9ffa664-a6aa-4cd7-be58-54f72b881002",
   "metadata": {},
   "outputs": [],
   "source": [
    "## TOKENIZATION "
   ]
  },
  {
   "cell_type": "code",
   "execution_count": 6,
   "id": "6e4493e2-a396-4123-a90e-e7c3814520c7",
   "metadata": {},
   "outputs": [
    {
     "name": "stderr",
     "output_type": "stream",
     "text": [
      "[nltk_data] Downloading package punkt_tab to\n",
      "[nltk_data]     /Users/ankurguhamazumdar/nltk_data...\n",
      "[nltk_data]   Unzipping tokenizers/punkt_tab.zip.\n"
     ]
    },
    {
     "data": {
      "text/plain": [
       "True"
      ]
     },
     "execution_count": 6,
     "metadata": {},
     "output_type": "execute_result"
    }
   ],
   "source": [
    "import nltk\n",
    "nltk.download('punkt_tab')"
   ]
  },
  {
   "cell_type": "code",
   "execution_count": 4,
   "id": "b2620bbf-3239-49c2-8a3e-fe683a400ead",
   "metadata": {},
   "outputs": [],
   "source": [
    "from nltk.tokenize import sent_tokenize"
   ]
  },
  {
   "cell_type": "code",
   "execution_count": 16,
   "id": "c40addc8-6e1d-4a62-adbe-64be8301f9ec",
   "metadata": {},
   "outputs": [
    {
     "name": "stdout",
     "output_type": "stream",
     "text": [
      "Welcome to Ankur's NLP Practise session. Please follow through complete workbook to understand NLP well\n"
     ]
    }
   ],
   "source": [
    "corpus= \"Welcome to Ankur's NLP Practise session. Please follow through complete workbook to understand NLP well\"\n",
    "\n",
    "print(corpus)"
   ]
  },
  {
   "cell_type": "code",
   "execution_count": 11,
   "id": "9d1497de-27d0-4e0d-b073-356b031198f8",
   "metadata": {},
   "outputs": [
    {
     "data": {
      "text/plain": [
       "[\"Welcome to Ankur's NLP Practise session.\",\n",
       " 'Please follow through complete workbook to understand NLP well']"
      ]
     },
     "execution_count": 11,
     "metadata": {},
     "output_type": "execute_result"
    }
   ],
   "source": [
    "sent_tokenize(corpus)"
   ]
  },
  {
   "cell_type": "code",
   "execution_count": 12,
   "id": "731383d8-88d6-4e91-9b03-aca2590304cb",
   "metadata": {},
   "outputs": [],
   "source": [
    "documents=sent_tokenize(corpus)"
   ]
  },
  {
   "cell_type": "code",
   "execution_count": 17,
   "id": "4e8a02f0-dc28-480f-b518-c7656cb2ec37",
   "metadata": {},
   "outputs": [
    {
     "name": "stdout",
     "output_type": "stream",
     "text": [
      "['Welcome', 'to', 'Ankur', \"'s\", 'NLP', 'Practise', 'session', '.', 'Please', 'follow', 'through', 'complete', 'workbook', 'to', 'understand', 'NLP', 'well']\n"
     ]
    }
   ],
   "source": [
    "from nltk.tokenize import word_tokenize\n",
    "print(word_tokenize(corpus))"
   ]
  },
  {
   "cell_type": "code",
   "execution_count": 18,
   "id": "5afa07a3-b28a-4d33-91b0-290080e6cd95",
   "metadata": {},
   "outputs": [
    {
     "name": "stdout",
     "output_type": "stream",
     "text": [
      "['Welcome', 'to', 'Ankur', \"'\", 's', 'NLP', 'Practise', 'session', '.', 'Please', 'follow', 'through', 'complete', 'workbook', 'to', 'understand', 'NLP', 'well']\n"
     ]
    }
   ],
   "source": [
    "from nltk.tokenize import wordpunct_tokenize\n",
    "print(wordpunct_tokenize(corpus))\n",
    "## treat punctuations as a seperate words "
   ]
  },
  {
   "cell_type": "code",
   "execution_count": null,
   "id": "fcf29b99-cec5-44ad-a769-724d5cc44034",
   "metadata": {},
   "outputs": [],
   "source": []
  },
  {
   "cell_type": "code",
   "execution_count": null,
   "id": "f361e949-3b3e-422f-b2d1-2ac46178a43c",
   "metadata": {},
   "outputs": [],
   "source": [
    "##STEMMING "
   ]
  },
  {
   "cell_type": "code",
   "execution_count": 31,
   "id": "63f2264c-9137-4d24-8601-31678492dbb4",
   "metadata": {},
   "outputs": [],
   "source": [
    "words=['eating','eats','eaten','universal','history','programming','finally','finalized','congratulation','sitting']"
   ]
  },
  {
   "cell_type": "code",
   "execution_count": 26,
   "id": "95403dd4-d2b9-40f2-bf54-5f91c30e5dd6",
   "metadata": {},
   "outputs": [],
   "source": [
    "from nltk.stem import PorterStemmer"
   ]
  },
  {
   "cell_type": "code",
   "execution_count": 32,
   "id": "6d0d8cbc-b0cd-4d9b-8575-66fc6828f411",
   "metadata": {},
   "outputs": [
    {
     "name": "stdout",
     "output_type": "stream",
     "text": [
      "eating--->eat\n",
      "eats--->eat\n",
      "eaten--->eaten\n",
      "universal--->univers\n",
      "history--->histori\n",
      "programming--->program\n",
      "finally--->final\n",
      "finalized--->final\n",
      "congratulation--->congratul\n",
      "sitting--->sit\n"
     ]
    }
   ],
   "source": [
    "stemming=PorterStemmer()\n",
    "for word in words:\n",
    "    print(word+\"--->\"+stemming.stem(word))\n",
    "\n",
    "# Note : few words losses it's semantic meaning "
   ]
  },
  {
   "cell_type": "markdown",
   "id": "c4c46ebb-3217-4d0c-82d7-2dea3ab37015",
   "metadata": {},
   "source": [
    "Lemmatization "
   ]
  },
  {
   "cell_type": "code",
   "execution_count": null,
   "id": "07ddccf9-cd3a-4695-85bb-8768ae4af40e",
   "metadata": {},
   "outputs": [],
   "source": []
  }
 ],
 "metadata": {
  "kernelspec": {
   "display_name": "Python 3 (ipykernel)",
   "language": "python",
   "name": "python3"
  },
  "language_info": {
   "codemirror_mode": {
    "name": "ipython",
    "version": 3
   },
   "file_extension": ".py",
   "mimetype": "text/x-python",
   "name": "python",
   "nbconvert_exporter": "python",
   "pygments_lexer": "ipython3",
   "version": "3.12.4"
  }
 },
 "nbformat": 4,
 "nbformat_minor": 5
}
